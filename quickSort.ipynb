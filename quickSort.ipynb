{
 "cells": [
  {
   "cell_type": "code",
   "execution_count": 3,
   "metadata": {},
   "outputs": [],
   "source": [
    "import numpy as np"
   ]
  },
  {
   "cell_type": "code",
   "execution_count": 2,
   "metadata": {},
   "outputs": [
    {
     "name": "stdout",
     "output_type": "stream",
     "text": [
      "[2 1 3 5 4 8 9]\n"
     ]
    }
   ],
   "source": [
    "def partition(arr,lb,ub):\n",
    "    pivot = arr[lb]\n",
    "    start = lb+1\n",
    "    end = ub\n",
    "\n",
    "    while start<=end :\n",
    "        while arr[start]<=pivot:\n",
    "            start+=1\n",
    "        while arr[end]>=pivot:\n",
    "            end-=1\n",
    "        if(start<end):\n",
    "            arr[start],arr[end]=arr[end],arr[start]\n",
    "    arr[lb],arr[end]=arr[end],arr[lb]\n",
    "    return end\n",
    "\n",
    "def QuickSort(arr,lb,ub):\n",
    "    if(lb<ub):\n",
    "        loc = partition(arr,lb,ub)\n",
    "        QuickSort(arr,lb,loc-1)\n",
    "        QuickSort(arr,loc+1,ub)\n",
    "\n",
    "        return arr\n",
    "    \n",
    "a=np.array([5,9,3,4,8,2,1],dtype=int)\n",
    "print(QuickSort(a,0,len(a)-1))  "
   ]
  },
  {
   "cell_type": "code",
   "execution_count": 1,
   "metadata": {},
   "outputs": [
    {
     "name": "stdout",
     "output_type": "stream",
     "text": [
      "[1 2 3 4 5 8 9]\n"
     ]
    }
   ],
   "source": [
    "import numpy as np  \n",
    "\n",
    "def partition(arr, lb, ub):\n",
    "    pivot = arr[lb]  # Fix indexing issue\n",
    "    start = lb + 1\n",
    "    end = ub\n",
    "\n",
    "    while start <= end:  # Fix loop condition\n",
    "        while start <= ub and arr[start] <= pivot:  \n",
    "            start += 1  \n",
    "        while end >= lb and arr[end] > pivot:  \n",
    "            end -= 1  \n",
    "        if start < end:  \n",
    "            arr[start], arr[end] = arr[end], arr[start]  \n",
    "\n",
    "    arr[lb], arr[end] = arr[end], arr[lb]  # Place pivot in correct position\n",
    "    return end  \n",
    "\n",
    "def QuickSort(arr, lb, ub):  \n",
    "    if lb < ub:  \n",
    "        loc = partition(arr, lb, ub)  \n",
    "        QuickSort(arr, lb, loc - 1)  \n",
    "        QuickSort(arr, loc + 1, ub)  \n",
    "\n",
    "# Example Usage     \n",
    "a = np.array([5, 9, 3, 4, 8, 2, 1], dtype=int)  \n",
    "QuickSort(a, 0, len(a) - 1)  \n",
    "print(a)  # Sorted array\n"
   ]
  },
  {
   "cell_type": "code",
   "execution_count": null,
   "metadata": {},
   "outputs": [],
   "source": []
  },
  {
   "cell_type": "code",
   "execution_count": null,
   "metadata": {},
   "outputs": [],
   "source": []
  }
 ],
 "metadata": {
  "kernelspec": {
   "display_name": "Python 3",
   "language": "python",
   "name": "python3"
  },
  "language_info": {
   "codemirror_mode": {
    "name": "ipython",
    "version": 3
   },
   "file_extension": ".py",
   "mimetype": "text/x-python",
   "name": "python",
   "nbconvert_exporter": "python",
   "pygments_lexer": "ipython3",
   "version": "3.12.7"
  }
 },
 "nbformat": 4,
 "nbformat_minor": 2
}
